{
  "nbformat": 4,
  "nbformat_minor": 0,
  "metadata": {
    "colab": {
      "name": "Yolov7",
      "provenance": [],
      "collapsed_sections": [],
      "authorship_tag": "ABX9TyPfGdIoNXvCj0OlySSpZwrk",
      "include_colab_link": true
    },
    "kernelspec": {
      "name": "python3",
      "display_name": "Python 3"
    },
    "language_info": {
      "name": "python"
    }
  },
  "cells": [
    {
      "cell_type": "markdown",
      "metadata": {
        "id": "view-in-github",
        "colab_type": "text"
      },
      "source": [
        "<a href=\"https://colab.research.google.com/github/mahdilamb/yolov7-with-colab/blob/main/Yolov7.ipynb\" target=\"_parent\"><img src=\"https://colab.research.google.com/assets/colab-badge.svg\" alt=\"Open In Colab\"/></a>"
      ]
    },
    {
      "cell_type": "code",
      "execution_count": null,
      "metadata": {
        "id": "vJGyzVBkK7JT"
      },
      "outputs": [],
      "source": [
        "#Clone and install Yolov7\n",
        "!git clone https://github.com/WongKinYiu/yolov7.git\n",
        "!cd yolov7 && pip install -r requirements.txt\n",
        "\n",
        "#Download weights\n",
        "!wget -c https://github.com/WongKinYiu/yolov7/releases/download/v0.1/yolov7.pt"
      ]
    },
    {
      "cell_type": "code",
      "source": [
        "#Run inference\n",
        "!cd yolov7 && python detect.py --weights ../yolov7.pt --conf 0.25 --img-size 640 --source inference/images/horses.jpg"
      ],
      "metadata": {
        "id": "9UQ5z5wZLTdd"
      },
      "execution_count": null,
      "outputs": []
    },
    {
      "cell_type": "code",
      "source": [
        "#Find the most recent jpeg img under runs and display\n",
        "import glob, os\n",
        "output =  sorted(glob.iglob(\"yolov7/runs/**/**/*.jpg\"), key=os.path.getctime, reverse=True)[0]\n",
        "from IPython.display import Image\n",
        "Image(output)\n"
      ],
      "metadata": {
        "id": "zU4YdZDnNRqD"
      },
      "execution_count": null,
      "outputs": []
    }
  ]
}